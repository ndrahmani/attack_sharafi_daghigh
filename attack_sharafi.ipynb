{
 "cells": [
  {
   "cell_type": "code",
   "execution_count": 1,
   "id": "14b8defc-b61b-43f8-8587-ed00752c0ce2",
   "metadata": {
    "execution": {
     "iopub.execute_input": "2025-05-21T22:08:35.159710Z",
     "iopub.status.busy": "2025-05-21T22:08:35.159469Z",
     "iopub.status.idle": "2025-05-21T22:08:35.163306Z",
     "shell.execute_reply": "2025-05-21T22:08:35.162591Z",
     "shell.execute_reply.started": "2025-05-21T22:08:35.159694Z"
    }
   },
   "outputs": [],
   "source": [
    "warnings.filterwarnings(\"ignore\")"
   ]
  },
  {
   "cell_type": "code",
   "execution_count": 2,
   "id": "486a025a-107d-437b-ab37-d352d842ec1d",
   "metadata": {
    "execution": {
     "iopub.execute_input": "2025-05-21T22:08:35.164653Z",
     "iopub.status.busy": "2025-05-21T22:08:35.164398Z",
     "iopub.status.idle": "2025-05-21T22:08:35.178497Z",
     "shell.execute_reply": "2025-05-21T22:08:35.178071Z",
     "shell.execute_reply.started": "2025-05-21T22:08:35.164637Z"
    }
   },
   "outputs": [],
   "source": [
    "def balance(e, q=None):\n",
    "    try:\n",
    "        # Try to recursively balance a vector or list of elements\n",
    "        p = parent(e).change_ring(ZZ)\n",
    "        return p([balance(e_, q) for e_ in e])\n",
    "    except (TypeError, AttributeError):\n",
    "        # If e is a scalar, balance it\n",
    "        if q is None:\n",
    "            try:\n",
    "                q = parent(e).order()\n",
    "            except AttributeError:\n",
    "                q = parent(e).base_ring().order()\n",
    "        e_z = ZZ(e)\n",
    "        return e_z - q if e_z > q // 2 else e_z\n",
    "\n",
    "def encode(e, q=None):\n",
    "    try:\n",
    "        # Try to recursively balance a vector or list of elements\n",
    "        p = parent(e).change_ring(ZZ)\n",
    "        return p([encode(e_, q) for e_ in e])\n",
    "    except (TypeError, AttributeError):\n",
    "        # If e is a scalar, balance it\n",
    "        if q is None:\n",
    "            try:\n",
    "                q = parent(e).order()\n",
    "            except AttributeError:\n",
    "                q = parent(e).base_ring().order()\n",
    "        e_z = ZZ(e)\n",
    "        return round(q/2)*e_z\n",
    "\n",
    "def decode(e, q=None):\n",
    "    try:\n",
    "        # Try to recursively balance a vector or list of elements\n",
    "        p = parent(e).change_ring(ZZ)\n",
    "        return p([decode(e_, q) for e_ in e])\n",
    "    except (TypeError, AttributeError):\n",
    "        # If e is a scalar, balance it\n",
    "        if q is None:\n",
    "            try:\n",
    "                q = parent(e).order()\n",
    "            except AttributeError:\n",
    "                q = parent(e).base_ring().order()\n",
    "        e_z = Zmod(q)(e).lift_centered()\n",
    "        return 0 if -round(q/4) <= e_z and e_z <round(q/4)  else 1\n",
    "\n",
    "from sage.stats.distributions.discrete_gaussian_integer import  DiscreteGaussianDistributionIntegerSampler as DG\n"
   ]
  },
  {
   "cell_type": "code",
   "execution_count": null,
   "id": "d9f2f9df-306a-4057-96eb-a546b27f9063",
   "metadata": {},
   "outputs": [],
   "source": []
  },
  {
   "cell_type": "code",
   "execution_count": null,
   "id": "4def7990-19f6-4d40-95f4-45ee98198d09",
   "metadata": {},
   "outputs": [],
   "source": []
  },
  {
   "cell_type": "code",
   "execution_count": 3,
   "id": "b3db3fca-fab5-4224-860a-3e1d14cde9a7",
   "metadata": {
    "execution": {
     "iopub.execute_input": "2025-05-21T22:08:35.179295Z",
     "iopub.status.busy": "2025-05-21T22:08:35.178986Z",
     "iopub.status.idle": "2025-05-21T22:08:35.184384Z",
     "shell.execute_reply": "2025-05-21T22:08:35.183903Z",
     "shell.execute_reply.started": "2025-05-21T22:08:35.179284Z"
    }
   },
   "outputs": [],
   "source": [
    "from hashlib import sha256\n",
    "\n",
    "\n",
    "q = 7681\n",
    "n = 256\n",
    "t = floor(q/4)\n",
    "\n",
    "se=ss = sqrt(1.2)\n",
    "class SDSIG:\n",
    "    def __init__(self, q = q, n = n,  kie = se,kis=ss,DG=DG):\n",
    "        self.q = q\n",
    "        self.d = n\n",
    "        self.kie = kie\n",
    "        self.kis = kis\n",
    "        self.Dr = DG(self.kis)\n",
    "        self.De = DG(self.kie)\n",
    "        Zq, Y = PolynomialRing(GF(q), 'y').objgen()\n",
    "        R, X = Zq.quotient_ring(Y**n + 1, 'x').objgen()\n",
    "        self.R = R\n",
    "        self.X = X\n",
    "        self._keygen()\n",
    "        \n",
    "    def _sample_element(self,q=q):\n",
    "        coeffs = [ randint(0,q-1) for _ in range(self.d)]\n",
    "        return self.R(coeffs)\n",
    "        \n",
    "    def _sample_short_secret(self):\n",
    "        coeffs = [ self.Dr() for i in range(self.d)]\n",
    "        return self.R(coeffs)\n",
    "\n",
    "    def _sample_small_error(self):\n",
    "        coeffs = [ self.De() for i in range(self.d)]\n",
    "        return self.R(coeffs)\n",
    "\n",
    "    def _keygen(self):\n",
    "        a  = self._sample_element()\n",
    "        r1  = self._sample_short_secret()\n",
    "        r2  = self._sample_short_secret()\n",
    "        p = r1 - a*r2\n",
    "        self.sk = r2\n",
    "        self.pk = (p, a)\n",
    "\n",
    "    def sign(self, m):\n",
    "        p,a = self.pk\n",
    "        r2 = self.sk\n",
    "        mbar = encode(m,q)  # assume that m is already hashed \n",
    "        e1, e2, e3, e4 = [self._sample_small_error() for _ in range(4)]\n",
    "        C1 = balance(p * e1     + e2)\n",
    "        C2 = balance(p * a * e1 + e3 + mbar)\n",
    "        C3 = balance(a*e2 + e4)\n",
    "        h = sha256((str(m) + str(decode(a*r2*e1,q))).encode() ).digest()\n",
    "        return (C1,C2,C3,h)\n",
    "    \n",
    "    def verify(self, c,m):\n",
    "        C1,C2,C3,h = c\n",
    "        p,a = self.pk\n",
    "        mbar = encode(m,q)\n",
    "        h_recomputed = sha256((str(m) + str(decode(-C1.lift(),q))).encode() ).digest()\n",
    "        \n",
    "        return h_recomputed == h and decode((C2-a*C1+C3).lift(),q) == m\n",
    "        #return [0 if abs(wi) < self.q//4 else 1 for wi in coeffs]\n",
    "\n",
    "        "
   ]
  },
  {
   "cell_type": "code",
   "execution_count": 4,
   "id": "3d09720b-0e9d-45e6-9dd7-cea3be640f58",
   "metadata": {
    "execution": {
     "iopub.execute_input": "2025-05-21T22:08:35.185272Z",
     "iopub.status.busy": "2025-05-21T22:08:35.184964Z",
     "iopub.status.idle": "2025-05-21T22:08:42.700389Z",
     "shell.execute_reply": "2025-05-21T22:08:42.699998Z",
     "shell.execute_reply.started": "2025-05-21T22:08:35.185254Z"
    }
   },
   "outputs": [
    {
     "name": "stderr",
     "output_type": "stream",
     "text": [
      "100%|██████████████████████████████████████████████████████████████████████████████| 1000/1000 [00:07<00:00, 133.73it/s]"
     ]
    },
    {
     "name": "stdout",
     "output_type": "stream",
     "text": [
      "Success Rate:  100.000000000000 %\n"
     ]
    },
    {
     "name": "stderr",
     "output_type": "stream",
     "text": [
      "\n"
     ]
    }
   ],
   "source": [
    "from tqdm import trange\n",
    "se=ss = sqrt(1.2)\n",
    "n=256\n",
    "sig = SDSIG(kie = se,kis=ss,n=n)\n",
    "r2 = (sig.sk.lift())\n",
    "p,a = [_.lift() for _ in sig.pk]\n",
    "r1 = p + a*r2\n",
    "\n",
    "suc = 0\n",
    "NTEST = 1000\n",
    "\n",
    "for i in trange(NTEST):\n",
    "    #choosing random message and assume it is hashed and has the length of the degree of ring\n",
    "    m = sig.R([randint(0,1) for _ in sig.d*\" \"]).lift()\n",
    "    mbar = encode(m,q)\n",
    "    cond =  0\n",
    "    while not(cond):\n",
    "        e1, e2, e3, e4 = [sig._sample_small_error() for _ in range(4)]\n",
    "        c1 = p*e1+e2\n",
    "        c2 = p*a*e1+e3 + mbar\n",
    "        c3 = a*e2+e4\n",
    "        h = sha256( (str(m) + str(decode(-c1.lift(),q))).encode() ).digest()\n",
    "        # verifying the condition for the signature to be valid without giving the signing keys \n",
    "        cond =  decode((c2-a*c1+c3).lift(),q) == m\n",
    "                      \n",
    "    if sig.verify((c1,c2,c3,h),m):\n",
    "         suc += 1\n",
    "print(\"Success Rate: \", suc/NTEST*100.,\"%\")"
   ]
  }
 ],
 "metadata": {
  "kernelspec": {
   "display_name": "SageMath 10.5",
   "language": "sage",
   "name": "sagemath"
  },
  "language_info": {
   "codemirror_mode": {
    "name": "ipython",
    "version": 3
   },
   "file_extension": ".py",
   "mimetype": "text/x-python",
   "name": "python",
   "nbconvert_exporter": "python",
   "pygments_lexer": "ipython3",
   "version": "3.12.9"
  }
 },
 "nbformat": 4,
 "nbformat_minor": 5
}
